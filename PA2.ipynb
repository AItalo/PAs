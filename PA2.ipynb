{
 "cells": [
  {
   "cell_type": "markdown",
   "metadata": {},
   "source": [
    "# [CPSC 310](https://github.com/GonzagaCPSC310) Data Mining\n",
    "[Gonzaga University](https://www.gonzaga.edu/)\n",
    "\n",
    "[Gina Sprint](http://cs.gonzaga.edu/faculty/sprint/)\n",
    "## PA2 Data Visualization (100 pts)\n",
    "\n",
    "## Learner Objectives\n",
    "At the conclusion of this programming assignment, participants should be able to:\n",
    "* Use `matplotlib` to visualize data\n",
    "* Transform a continuous attribute into a categorical attribute using discretization\n",
    "* Calculate a least squares linear regression line\n",
    "\n",
    "## Prerequisites\n",
    "Before starting this micro assignment, participants should be able to:\n",
    "* Use Python for data analysis\n",
    "\n",
    "## Acknowledgments\n",
    "Content used in this assignment is based upon information in the following sources:\n",
    "* Dr. Shawn Bowers' Data Mining HW2"
   ]
  },
  {
   "cell_type": "markdown",
   "metadata": {},
   "source": [
    "## Github Classroom Setup\n",
    "For this assignment, you will use GitHub Classroom to create a private code repositories to track code changes and submit your assignment. Open this PA2 link to accept the assignment and create a private repository for your assignment in Github classroom: https://classroom.github.com/a/CpqLQcT1\n",
    "\n",
    "Your repo, for example, will be named GonzagaCPSC310/pa2-yourusername (where yourusername is your Github username). I highly recommend committing/pushing regularly so your work is always backed up. We will grade your most recent commit, even if that commit is after the due date (your work will be marked late if this is the case)."
   ]
  },
  {
   "cell_type": "markdown",
   "metadata": {
    "collapsed": true
   },
   "source": [
    "## Overview and Requirements\n",
    "Write a program (`pa2.py`) that creates plots for the \"pre-processed\" automobile dataset (auto-data.txt) you created for PA1. Pick one method to deal with missing values for this assignment (e.g., eliminate rows with missing values, use means or medians, etc.).\n",
    "\n",
    "For this assignment you will need to perform the following steps and turn in your source code, plots, and a description (i.e., log) of the process you used to \"visualize\" the given data and any insights gained from the visualizations. Your log needs to be written separately from your .py file and may be written in a .txt or a .md (markdown) file. Each chart that you generate must include:\n",
    "* a figure title\n",
    "* labels on the x and y axes where appropriate (see the examples in Figure 1) \n",
    "\n",
    "Also, your final program should save each chart as a PDF file using the `savefig(\"filename.pdf\")` function. Saved charts should start with the step name, e.g., step-1-cylinders.pdf.\n",
    "\n",
    "Note: as you write solutions for the following steps, I highly encourage you to design functions that are generic and re-usable for future programming assignments and data mining tasks."
   ]
  },
  {
   "cell_type": "markdown",
   "metadata": {},
   "source": [
    "## Step 1 Frequency Diagrams\n",
    "Create a frequency diagram (sometimes informally referred to as a \"histogram\") for each of the cylinders, model year, and origin attributes of the auto-data.txt dataset. Each diagram should show the frequency (i.e., total number) of cars per value of the given attribute. Use a basic bar chart to draw your frequency diagrams. See Figure 1 for an example for the cylinders attribute.\n",
    "\n",
    "## Step 2 Pie Charts\n",
    "Create a pie chart showing the frequency of cars for each of the attributes from step 1. Your pie chart should include the percentages for each attribute value (using `autopct=\"%1.1f%%\"`). See Figure 1 for an example for the cylinders attribute.\n",
    "\n",
    "## Step 3 Dot Charts\n",
    "Create a dot (aka strip) chart showing the values for mpg, displacement, horsepower,\n",
    "weight, acceleration, and msrp. See Figure 1 for an example for mpg. As shown, darker circles indicate more data instances with that value. Some hints for creating a similar looking dot chart: set the y-axis values for each x value to 1; hide the y-axis using `pyplot.gca().get yaxis().set visible(False)`; use the '.' marker and set markersize to a larger default value and set alpha=0.2 to make dots transparent.\n",
    "\n",
    "## Step 4 Discretization\n",
    "There is often a need to transform a continuous attribute into a categorical attribute.\n",
    "Use the following two approaches to convert mpg into a categorical attribute and for each approach create a corresponding frequency diagram.\n",
    "\n",
    "Approach 1. The US Department of Energy assigns gasoline vehicles a fuel economy rating from 1\n",
    "(worst) to 10 (best). The ratings are defined in terms of mpg as follows:\n",
    "\n",
    "Rating |MPG\n",
    "-|-|\n",
    "10 |≥ 45\n",
    "9 |37–44\n",
    "8 |31–36\n",
    "7 |27–30\n",
    "6 |24–26\n",
    "5 |20–23\n",
    "4 |17–19\n",
    "3 |15–16\n",
    "2 |14\n",
    "1 |≤ 13\n",
    "\n",
    "Use these ranges to define category values (denoting rating 1 to 10) for the mpg attribute.\n",
    "\n",
    "\n",
    "Approach 2. Create 5 \"equal-width\" bins to generate categories. Each bin should divide up the range of mpg values into equal subranges, where value 1 denotes the smallest subrange of values and 5 the largest subrange of values (see Figure 1).\n",
    "\n",
    "Each frequency diagram should label bins according to their corresponding ranges (e.g., \"27--30\"). See Figure 1 for an example.\n",
    "\n",
    "## Step 5 Histograms\n",
    "Create a histogram using the `pyplot.hist()` function for each of the attributes in Step 3. Use the default of 10 bins (see Figure 1).\n",
    "\n",
    "## Step 6 Relationships A\n",
    "Create scatter plots that compare displacement, horsepower, weight, acceleration,\n",
    "and msrp to mpg (i.e., where mpg is the y-axis in each scatter plot). Be sure to appropriately label the x and y axes. Figure 1 gives an example for displacement.\n",
    "\n",
    "## Step 7 Relationships B\n",
    "Write a function to calculate (least-squares) linear regressions and create scatter\n",
    "plots with the corresponding linear regression lines for comparing displacement, horsepower, weight, and msrp to mpg. Create one additional scatter plot with a linear regression line comparing displacement to weight. Label each plot with the correlation coefficient and covariance. Figure 1 gives an example for displacement compared to mpg.\n",
    "\n",
    "## Step 8 Relationships C\n",
    "Create a chart to compare categorical/continuous attributes. To do this, create a box plot describing MPG (continuous) by model year (where we view year as categorical). An example of the chart is shown in Figure 1."
   ]
  },
  {
   "cell_type": "markdown",
   "metadata": {},
   "source": [
    "## Step 9 Relationships D\n",
    "Create a chart to compare categorical/categorical attributes. To do this, create a frequency diagram of the number of cars from each country of origin (categorical) separated out by model year (viewed as categorical). An example of the chart is shown in Figure 1.\n",
    "\n",
    "## Figure 1\n",
    "![Figure 1](https://raw.githubusercontent.com/GonzagaCPSC310/PAs/master/figures/auto_data_charts.png)\n",
    "\n",
    "Example visualizations for each step: \n",
    "* (a) frequency diagram\n",
    "* (b) pie chart\n",
    "* (c) dot chart\n",
    "* (d) frequency diagram of equal width binning\n",
    "* (e) histogram of acceleration values generated from pyplot with\n",
    "10 bins\n",
    "* (f) scatterplot comparing displacement to mpg\n",
    "* (g) similar plot as in (f) but with linear regression line\n",
    "* (h) box and whisker plot\n",
    "* (i) (BONUS) multiple frequency diagram"
   ]
  },
  {
   "cell_type": "markdown",
   "metadata": {},
   "source": [
    "## BONUS (5 pts)\n",
    "Take a look at the matplotlib gallery: https://matplotlib.org/gallery/index.html\n",
    "\n",
    "Choose a type of chart that is significantly different from the charts covered in this assignment and use it to display data from auto-data.txt. In your log, describe how the chart displays data, how it is supposed to be interpreted, interesting conclusions you can draw from the chart, and the process you took create the chart. Have fun with this one!!"
   ]
  },
  {
   "cell_type": "markdown",
   "metadata": {},
   "source": [
    "## Submitting Assignments\n",
    "1. Use Github classroom to submit your assignment via a Github repo. See the \"Github Classroom Setup\" section at the beginning of this document for details on how to do this. You must commit your solution by the due date and time.\n",
    "1. Your repo should contain only your .py file(s), your input .csv/.txt file(s), your output .pdf plot files, and your log file (.txt or .md). Double check that this is the case by cloning (or downloading a zip) your submission repo and running your code from command line like we will when we grade your code. "
   ]
  },
  {
   "cell_type": "markdown",
   "metadata": {},
   "source": [
    "## Grading Guidelines\n",
    "This assignment is worth 100 points + 5 points bonus. Your assignment will be evaluated based on a successful compilation from command line (using the Anaconda Python Distribution v3.7) and adherence to the program requirements. We will grade according to the following criteria:\n",
    "* 10 pts for correct step 1\n",
    "* 5 pts for correct step 2\n",
    "* 10 pts for correct step 3\n",
    "* 10 pts for correct step 4\n",
    "* 5 pts for correct step 5\n",
    "* 10 pts for correct step 6\n",
    "* 10 pts for correct step 7\n",
    "* 10 pts for correct step 8\n",
    "* 10 pts for correct step 9\n",
    "* 10 pts for quality and clarity of the write-up in the log file\n",
    "* 10 pts for adherence to course [coding standard](https://nbviewer.jupyter.org/github/GonzagaCPSC310/PAs/blob/master/Coding%20Standard.ipynb)"
   ]
  }
 ],
 "metadata": {
  "anaconda-cloud": {},
  "kernelspec": {
   "display_name": "Python 3",
   "language": "python",
   "name": "python3"
  },
  "language_info": {
   "codemirror_mode": {
    "name": "ipython",
    "version": 3
   },
   "file_extension": ".py",
   "mimetype": "text/x-python",
   "name": "python",
   "nbconvert_exporter": "python",
   "pygments_lexer": "ipython3",
   "version": "3.7.1"
  }
 },
 "nbformat": 4,
 "nbformat_minor": 1
}
