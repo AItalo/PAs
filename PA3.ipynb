{
 "cells": [
  {
   "cell_type": "markdown",
   "metadata": {},
   "source": [
    "# [CPSC 310](https://github.com/GonzagaCPSC310) Data Mining\n",
    "[Gonzaga University](https://www.gonzaga.edu/)\n",
    "\n",
    "[Gina Sprint](http://cs.gonzaga.edu/faculty/sprint/)\n",
    "# PA3 Story Telling w/Jupyter Notebook (100 pts)\n",
    "\n",
    "## Learner Objectives\n",
    "At the conclusion of this programming assignment, participants should be able to:\n",
    "* Write Markdown and code cells in Jupyter Notebook\n",
    "* Type set equations using Latex\n",
    "* Tell a data mining story that involves\n",
    "    * Cleaning data\n",
    "    * Aggregating data and compute summary statistics\n",
    "    * Visualizing data\n",
    "    * Making predictions using simple linear regression\n",
    "\n",
    "## Prerequisites\n",
    "Before starting this programming assignment, participants should be able to:\n",
    "* Use Python for data analysis\n",
    "* Use `matplotlib` to visualize data\n",
    "* Calculate a least squares linear regression line\n",
    "\n",
    "## Acknowledgments\n",
    "Content used in this assignment is based upon information in the following sources:\n",
    "* [Centers for Medicaid and Medicare Services IRF-PAI training manual](https://www.cms.gov/medicare/medicare-fee-for-service-payment/inpatientrehabfacpps/downloads/irfpai-manual-2012.pdf)"
   ]
  },
  {
   "cell_type": "markdown",
   "metadata": {},
   "source": [
    "## Github Classroom Setup\n",
    "For this assignment, you will use GitHub Classroom to create a private code repositories to track code changes and submit your assignment. Open this PA3 link to accept the assignment and create a private repository for your assignment in Github classroom: https://classroom.github.com/a/tyLFP2A7\n",
    "\n",
    "Your repo, for example, will be named GonzagaCPSC310/pa3-yourusername (where yourusername is your Github username). I highly recommend committing/pushing regularly so your work is always backed up. We will grade your most recent commit, even if that commit is after the due date (your work will be marked late if this is the case)."
   ]
  },
  {
   "cell_type": "markdown",
   "metadata": {},
   "source": [
    "## Overview and Requirements\n",
    "For this programming assignment, we are going to use a **Jupyter Notebook** to tell a story about exploratory data analysis (EDA) of a real-world clinical dataset. The dataset needs cleaning and contains interesting insights once aggregated and visualized. Your source code, log, and charts will be combined in your Jupyter Notebook with well-organized, interleaved code cells and markdown cells. Here are general requirements that your Notebook should conform to:\n",
    "* Your EDA story should be logically divided into different section levels, appropriately labeled using markdown headers, and contain well-written commentary describing the code, results, and insights you come up with\n",
    "* Each chart that you generate must be generated inline in the Notebook and include a figure title and labels on the x and y axes where appropriate\n",
    "* Each formula that you use in your code must be typeset using Latex and described in markdown\n",
    "    * E.g. formulas used for stats and linear regression/predictions\n",
    "\n",
    "Note: as you write solutions for the following steps, I highly encourage you to design functions that are generic and re-usable for future programming assignments and data mining tasks.\n",
    "\n",
    "Note: we are learning data mining from scratch! The only non-standard libraries you should need to use for this assignment include matplotlib, numpy (sparingly), csv (if you'd like to use it for file I/O), and tabulate (if you'd like to use it for pretty printing). This means no pandas...\n",
    "\n",
    "## Dataset\n",
    "Download the patient_data_to_clean.csv dataset from https://github.com/GonzagaCPSC310/PAs/tree/master/files. This dataset contains real gender, marital status, and rehabilitation impairment category (RIC) information from 4,555 inpatient rehabilitation patients. The data has been de-identified. Here is a sample of the format of the data in the csv file:\n",
    "\n",
    "|ID|Gender|Age|Marital Status|RIC|Admission Total FIM Score|Discharge Total FIM Score|\n",
    "|-|-|-|-|-|-|-|\n",
    "|0|M|80|Widowed|8|40|89|\n",
    "|1|M|90|Divorced|1|65|75|\n",
    "|2|M|53|Married|2|67|99|\n",
    "|...|...|...|...|...|...|...|\n",
    "\n",
    "And a description of each column:\n",
    "* ID (integer): Index of the dataset. Counting numbers starting at 0.\n",
    "* Gender (string): Gender of the patient, \"M\" for male and \"F\" for female.\n",
    "* Age (integer): Age of the patient in years\n",
    "* Marital Status (string): Description of the patient's marital status. No coding system enforced.\n",
    "* RIC (integer): RIC of the patient assigned according to Appendix B in the [Centers for Medicaid and Medicare Services IRF-PAI training manual](https://www.cms.gov/medicare/medicare-fee-for-service-payment/inpatientrehabfacpps/downloads/irfpai-manual-2012.pdf).\n",
    "* Admission Total FIM Score: The admission total Functional Independence Measure (FIM) score of the patient. \n",
    "    * The FIM is a clinical assessment used to measure patient functioning at inpatient rehabilitation hospitals. The FIM is measured at two distinct points in time: admission and discharge. \n",
    "    * The FIM measures the level of assistance required to perform 18 ADL tasks. \n",
    "    * The tasks are categorized as either motor (13 tasks) or cognitive (5 tasks). Each task is scored on a 7-point ordinal scale to measure independence as determined by the amount of assistance required to perform each ADL task. \n",
    "    * For more information about the FIM, see Section III in the [Centers for Medicaid and Medicare Services IRF-PAI training manual](https://www.cms.gov/medicare/medicare-fee-for-service-payment/inpatientrehabfacpps/downloads/irfpai-manual-2012.pdf).\n",
    "* Discharge Total FIM Score: The discharge total FIM score of the patient.\n",
    "\n",
    "Read the patient data into a 2D list (a table). The first row in the file is the header row and contains labels for each of the attribute columns."
   ]
  },
  {
   "cell_type": "markdown",
   "metadata": {},
   "source": [
    "## Step 1 Clean the Data\n",
    "Let's take a look at each attribute in the data and how the data needs to be cleaned:\n",
    "* ID: No cleaning necessary\n",
    "* Gender: No cleaning necessary\n",
    "* Age: No cleaning necessary\n",
    "* Marital Status: Update this data so it adheres to a strict coding system instead free response. This column is quite messy compared to the other columns. If we only look at the first 8 rows of the dataset, the Marital Status column looks like it is well coded; however, we see for ID 8 there is a period after \"Married.\" which doesn't match any of the previous \"Married\" entries. Upon further exploration, we see this column truly was free response for the clinicians to enter text. For example, take a look at IDs 179, 611, 1610, and 4287! We are going to do some string matching to apply a uniform encoding for the Marital Status column. When cleaning this column, use a simple rule based system to handle the various spellings and word choices that represent the following marital statuses:\n",
    "    * Never married\n",
    "    * Divorced\n",
    "    * Married\n",
    "    * Widowed\n",
    "    * Separated\n",
    "* RIC (integer): Decode the integer RIC label to the plain text string RIC label. Here is a dictionary storing the integer-string mappings: `ric_decoder = {1: \"Stroke\", 2: \"TBI\", 3: \"NTBI\", 4: \"TSCI\", 5: \"NTSCI\", 6: \"Neuro\", 7: \"FracLE\", 8: \"ReplLE\", 9: \"Ortho\", 10: \"AMPLE\", 11: \"AMP-NLE\", 12: \"OsteoA\", 13: \"RheumA\", 14: \"Cardiac\", 15: \"Pulmonary\", 16: \"Pain\", 17: \"MMT-NBSCI\", 18: \"MMT-BSCI\", 19: \"GB\", 20: \"Misc\", 21: \"Burns\"}`\n",
    "    1. \"Stroke\"\n",
    "    1. \"TBI\" (Traumatic brain injury)\n",
    "    1. \"NTBI\" (Non-traumatic brain injury)\n",
    "    1. \"TSCI\" (Traumatic spinal cord injury)\n",
    "    1. \"NTSCI\" (Non-traumatic spinal cord injury)\n",
    "    1. \"Neuro\" (Neurologic conditions)\n",
    "    1. \"FracLE\" (Fracture, lower extremity)\n",
    "    1. \"ReplLE\" (Joint replacement, lower extremity)\n",
    "    1. \"Ortho\" (Other orthopaedic)\n",
    "    1. \"AMPLE\" (Amputation, lower extremity)\n",
    "    1. \"AMP-NLE\"(Amputation, upper extremity or other)\n",
    "    1. \"OsteoA\" (Osteoarthritis)\n",
    "    1. \"RheumA\" (Rheumatoid arthritis)\n",
    "    1. \"Cardiac\" (Cardiac disorders)\n",
    "    1. \"Pulmonary\" (Pulmonary disorders)\n",
    "    1. \"Pain\" (Pain syndromes)\n",
    "    1. \"MMT-NBSCI\" (Major multiple trauma, non brain injury or spinal cord injury)\n",
    "    1. \"MMT-BSCI\" (Major multiple trauma, brain injury or spinal cord injury)\n",
    "    1. \"GB\": (Guillain-Barre Syndrome)\n",
    "    1. \"Misc\" (Miscellaneous)\n",
    "    1. \"Burns\"\n",
    "* Admission Total FIM Score: No cleaning necessary\n",
    "* Discharge Total FIM Score: No cleaning necessary\n",
    "\n",
    "Note: there are a few entries that we cannot classify as one of the above labels. Log these cases, explain why they can't be classified, and overwrite the entry with a null value (`NA`) to represent missing data.\n",
    "\n",
    "Write the cleaned data out to a new file \"patient_data_cleaned.csv\". This dataset is now cleaned and ready for use in the next step of our data analysis pipeline. Depending on what we want to do with the data, this could be continuing exploration by generating visualizations of the data, or perhaps scaling the features in preparation for machine learning."
   ]
  },
  {
   "cell_type": "markdown",
   "metadata": {},
   "source": [
    "## Step 2 Stats\n",
    "Write a out a stats file, \"patient_data_stats.csv\", that contains two columns: 1 for the statistic names and one for the statistic values. Compute the following statistics\n",
    "1. Total number of patients\n",
    "1. Total number of males\n",
    "1. Total number of females\n",
    "1. Total number of married patients\n",
    "1. RIC label for the most commonly occurring RIC\n",
    "1. Total number of patients with the most commonly occurring RIC\n",
    "1. Average age for stroke patients\n",
    "1. Standard deviation of age for stroke patients\n",
    "1. Average age for male stroke patients\n",
    "1. Standard deviation of age for male stroke patients\n",
    "1. Average age for female stroke patients\n",
    "1. Standard deviation of age for female stroke patients"
   ]
  },
  {
   "cell_type": "markdown",
   "metadata": {},
   "source": [
    "## Step 3 Visualization\n",
    "For each RIC category, produce a FIM scatter plot:\n",
    "* X axis label: Admission FIM score\n",
    "* Y axis label: Discharge FIM score\n",
    "* Title: \"`<RIC>` (N=`<total>`)\"\n",
    "* Male [scatter points](http://matplotlib.org/api/_as_gen/matplotlib.axes.Axes.scatter.html): Blue, circle markers (\".\"), size 100, label \"Male (N=`<total>`)\"\n",
    "* Female [scatter points](http://matplotlib.org/api/_as_gen/matplotlib.axes.Axes.scatter.html): Red, plus markers (\"+\"), size 100, label \"Female (N=`<total>`)\" \n",
    "* Y = X [line](https://matplotlib.org/api/pyplot_api.html#matplotlib.pyplot.plot): Black, dashed line style (\"--\"), [x limits](https://matplotlib.org/api/_as_gen/matplotlib.axes.Axes.set_xlim.html) and [y limits](https://matplotlib.org/api/_as_gen/matplotlib.axes.Axes.set_ylim.html) are [0, 140]\n",
    "    * This is called a \"no change\" line, Y = X. This line represents when the discharge FIM score is the same as the admission FIM score. Patients above this line showed a FIM score improvement, patients below this line showed a regression.\n",
    "* [Legend](https://matplotlib.org/api/pyplot_api.html#matplotlib.pyplot.legend): lower right corner (\"4\")\n",
    "* Example: <img src=\"https://raw.githubusercontent.com/gsprint23/aha/master/progassignments/figures/ReplLE_fim.png\" width=\"500\">"
   ]
  },
  {
   "cell_type": "markdown",
   "metadata": {},
   "source": [
    "## Step 4 Linear Regression for Prediction\n",
    "Linear regression can be used to make predications for \"unseen\" data. For example, consider a line $y = mx + b$ that was fit using least squares linear regression on a dataset. Now, a new $x_{unseen}$ value that was not included in the original dataset becomes available. We can \"predict\" a $y$ value (denoted $y^\\prime)$ for this \"unseen\" $x_{unseen}$ value. If we know the actual $y$ value for $x_{unseen}$, then the difference $(y_{unseen} - y^\\prime)$ is called the residual and represents the prediction error.\n",
    "\n",
    "Create two different predictors using linear regression that predicts discharge total FIM score. The first predictor should be based on age and the second predictor should be based on admission total FIM score. Compute the correlation coefficient and standard error for each predictor. Which predictor do you think will yield \"better\" predictions? Why?\n",
    "\n",
    "Test your two predictors on the following unseen data points (called a test set):\n",
    "\n",
    "|Age|Admission Total FIM Score|Discharge Total FIM Score|\n",
    "|-|-|-|\n",
    "|52|65|93|\n",
    "|84|60|92|\n",
    "|68|70|98|\n",
    "|75|39|78|\n",
    "|63|70|107|\n",
    "\n",
    "Compute the mean absolute error (MAE) for each predictor's predictions. MAE is the average of the absolute values of the residuals. Are the prediction results in line with your hypothesis? Why or why not?"
   ]
  },
  {
   "cell_type": "markdown",
   "metadata": {},
   "source": [
    "## BONUS (5 pts)\n",
    "Create RIC-specific discharge total FIM score predictors using either age or admission total, whichever one you found in the last step to be the better predictor of discharge total FIM score. Compare MAE for your RIC-specific predictors and log any insights you come up with.\n",
    "\n",
    "Note: ignore RICs that have fewer than two patients/instances."
   ]
  },
  {
   "cell_type": "markdown",
   "metadata": {},
   "source": [
    "## Submitting Assignments\n",
    "1. Use Github classroom to submit your assignment via a Github repo. See the \"Github Classroom Setup\" section at the beginning of this document for details on how to do this. You must commit your solution by the due date and time.\n",
    "1. Your repo should contain only your .ipynb file (and possibly utils.py), your input .csv/.txt file(s), and your output .csv/.txt file(s). Double check that this is the case by cloning (or downloading a zip) your submission repo and running your code from command line like we will when we grade your code. "
   ]
  },
  {
   "cell_type": "markdown",
   "metadata": {},
   "source": [
    "## Grading Guidelines\n",
    "This assignment is worth 100 points + 5 points bonus. Your assignment will be evaluated based on a successful compilation from command line (using the Anaconda Python Distribution v3.7) and adherence to the program requirements. We will grade according to the following criteria:\n",
    "* 15 pts for correct step 1\n",
    "* 15 pts for correct step 2\n",
    "* 20 pts for correct step 3\n",
    "* 20 pts for correct step 4\n",
    "* 10 pts for quality and clarity of the story telling commentary\n",
    "* 10 pts for typeset math equations using Latex\n",
    "* 2 pts for quantity and quality of Github commit messages\n",
    "* 8 pts for adherence to course [coding standard](https://nbviewer.jupyter.org/github/GonzagaCPSC310/PAs/blob/master/Coding%20Standard.ipynb)"
   ]
  }
 ],
 "metadata": {
  "anaconda-cloud": {},
  "kernelspec": {
   "display_name": "Python 3",
   "language": "python",
   "name": "python3"
  },
  "language_info": {
   "codemirror_mode": {
    "name": "ipython",
    "version": 3
   },
   "file_extension": ".py",
   "mimetype": "text/x-python",
   "name": "python",
   "nbconvert_exporter": "python",
   "pygments_lexer": "ipython3",
   "version": "3.7.1"
  }
 },
 "nbformat": 4,
 "nbformat_minor": 1
}
